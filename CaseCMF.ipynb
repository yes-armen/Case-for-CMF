{
 "cells": [
  {
   "cell_type": "markdown",
   "metadata": {},
   "source": [
    "# Есаян Армен, 2 курс, МатФак ВШЭ\n",
    "# Кейс по алгоритмическому трейдингу \n",
    " \n",
    " В данной работе в качестве финансового инструмента рассматривается пут-опцион на фьючерс на индекс S&P500.\n",
    " Решение кейса представляет из себя проверку научной гипотезы О.Бондаренко, описанной в статье \"Why are Put Options so Expensive?\" (см. по ссылке https://papers.ssrn.com/sol3/papers.cfm?abstract_id=375784). Хотим проверить, что премии за пут-опционы данного базового актива переоценены, и реализовать стратегию, в которой данный базовый актив мы будем шортить.\n",
    " \n",
    " Решение кейса состоит из трех частей.\n",
    " \n",
    "__Часть 1 (мотивация).__ Рассматривается подразумеваемая волатильность (implied volatility) пут-опционов фьючерса на S&P500 с датой экспирации в сентябре 2021 года, торгующиеся 24 августа 2021 года (файл data.csv, данные взяты с сайта https://www.cmegroup.com/markets/equities/sp/sandp-500.settlements.options.html#optionProductId=135&optionExpiration=135-U1&tradeDate=08%2F24%2F2021).\n",
    "\n",
    "Взяв опционы со стоимостью страйка +-10% от уровня страйка ATM опциона (для отсечения самых неликвидных), строится график зависимости подразумеваемой волатильности от денежности опциона.\n",
    "\n",
    "Подразумеваемую волатильность можно найти приближенно, решив уравнение Блэка-Шоулза \"наоборот\", зная все параметры, кроме, как раз-таки, волатильности. Для этого вычисляется \"грек\" вега, и при помощи метода Эйлера находится параметр сигма с заранее установленной точностью и максимальным количеством шагов.\n",
    "\n",
    "Вывод: премии пут-опционов на данный базовый актив переоценены.\n",
    " \n",
    "__Часть 2 (торговая стратегия - код).__ Стратегия, рассматриваемая в данной работе, представляет из себя продажу в шорт пут-опционов при определённом поведении рынка и прекращение трейдинга на некоторое время при достаточно высоких значениях X индекса волатильности S&P VIX. Прекращать шортить фьючерс на S&P при панике на рынке мотивирована высокими рисками и вероятностью того, что рынок поведет себя иррационально, что не учитывается в модели, на которой основана наша стратегия. В каждый момент времени t мы либо покупаем, либо продаем данный базовый актив, то есть мы не докупаемся и не увеличиваем позицию.\n",
    "\n",
    "  Чистая прибыль, полученная в момент времени t, считается по следующей формуле: \n",
    "  \n",
    "  $$P\\&L_{t} = \\begin{cases}\n",
    "S_{t + 1} - K_{t} + Put_{t}; \\ \\ если \\ \\  VIX_{t} < X \\ и \\  S_{t + 1} \\leq K_{t} \\\\\n",
    "Put_{t}; \\ \\ если \\ \\ VIX_{t} < X \\ и \\ S_{t + 1} > K_{t} \\\\\n",
    "0; \\ \\ если \\ \\ VIX_{t} \\geq X \n",
    "\\end{cases}$$\n",
    "\n",
    "где:\n",
    "* $Put_{t}$ - стоимость премии пут-опциона\n",
    "* $X$ - пороговое значение индекса VIX\n",
    "* $K_{t} = S\\&P_{t}$ - страйк в момент времени t\n",
    "* $S_{t+1} = S\\&P_{t + 1}$ - стоимость базового актива (уровень индекса S&P500) в момент времени t+1\n",
    "\n",
    "Разность между t+1 и t - месяц без выходных дней (примерно 25 дней)\n",
    "\n",
    "Пороговое значение VIX выбирается таким образом, чтобы максимизировать коэффициент Шарпа.\n",
    "\n",
    "__Часть 3 (бэктестирование)__\n",
    "\n",
    "Для бэктестирования рассматрены коэффициент Шарпа и отношение накопленной доходности к максимальной просадке.\n",
    "Построены графики зависимости исторической чистой прибыли для данных в обучающей и тестовой выборке.\n"
   ]
  },
  {
   "cell_type": "markdown",
   "metadata": {},
   "source": [
    "__Часть 1.__ "
   ]
  },
  {
   "cell_type": "markdown",
   "metadata": {},
   "source": [
    "Импортируем все необходимые библиотеки"
   ]
  },
  {
   "cell_type": "code",
   "execution_count": 51,
   "metadata": {},
   "outputs": [],
   "source": [
    "#!pip install PrettyTable\n",
    "#!pip install pandas-datareader\n",
    "import pandas as pd\n",
    "import numpy as np\n",
    "import matplotlib.pyplot as plt\n",
    "import seaborn as sns\n",
    "import datetime as dt\n",
    "import pandas_datareader.data as web  \n",
    "\n",
    "from scipy.stats import norm\n",
    "from prettytable import PrettyTable\n",
    "\n",
    "%matplotlib inline\n",
    "sns.set(style = \"darkgrid\")"
   ]
  },
  {
   "cell_type": "markdown",
   "metadata": {},
   "source": [
    "\"data.csv\" - данные по опционам с датой экспирацией в сентябре 2021 года\n",
    "\n",
    "(ссылка: https://www.cmegroup.com/markets/equities/sp/sandp-500.settlements.options.html#optionProductId=135&optionExpiration=135-U1&tradeDate=08%2F24%2F2021)"
   ]
  },
  {
   "cell_type": "code",
   "execution_count": 52,
   "metadata": {},
   "outputs": [],
   "source": [
    "df1 = pd.read_csv('data.csv', header = 0, delimiter = \";\") "
   ]
  },
  {
   "cell_type": "code",
   "execution_count": 53,
   "metadata": {},
   "outputs": [],
   "source": [
    "def black(F0, K, T, r, sigma): #Формула Блэка-Шоулза для пут-опционов\n",
    "    d1 = (np.log(F0 / K) + sigma ** 2 * T / 2) / (sigma * np.sqrt(T))\n",
    "    d2 = d1 - sigma * np.sqrt(T)\n",
    "    \n",
    "    put = np.exp(-r * T) * (K * norm.cdf(-d2) - F0 * norm.cdf(-d1))\n",
    "    return put\n",
    "\n",
    "def find_vol(target_value, S, K, T, r): #функция приближенно вычисляет подразумеваемую волатильность при помощи\n",
    "    MAX_ITERATIONS = 500                #метода Эйлера\n",
    "    PRECISION = 1.0e-5\n",
    "    sigma = 0.5\n",
    "    for i in range(MAX_ITERATIONS):\n",
    "        price = black(S, K, T, r, sigma)\n",
    "        vega = vega_calc(S, K, T, r, sigma)\n",
    "        diff = target_value - price  \n",
    "        if (abs(diff) < PRECISION):\n",
    "            return sigma\n",
    "        sigma = sigma + diff/vega\n",
    "    return sigma # возвращается приближенное значение подразумеваемой волатильности \n",
    "\n",
    "def vega_calc(F0, K, T, r, sigma): #вычисляется \"грек\" вега \n",
    "    d1 = (np.log(F0 / K) + sigma ** 2 * T / 2) / (sigma * np.sqrt(T))\n",
    "    vega = F0 * norm.pdf(d1, 0.0, 1.0) * np.sqrt(T)\n",
    "    return vega\n",
    "\n",
    "F0 = 4482.50 #текущий уровень индекса S&P500\n",
    "r = 0.00013 #безрисковская процентная ставка ~0.04% на 3 месяца\n",
    "         # https://www.bloomberg.com/markets/rates-bonds/government-bonds/us\n",
    "T1 = 25/252 #время, оставшееся до экспирации опциона"
   ]
  },
  {
   "cell_type": "code",
   "execution_count": 54,
   "metadata": {},
   "outputs": [],
   "source": [
    "df1 = df1[(F0 * 0.9 < df1['Strike Price']) & (F0 * 1.1>= df1['Strike Price'])] #убираем самые неликвидные продукты"
   ]
  },
  {
   "cell_type": "code",
   "execution_count": 55,
   "metadata": {},
   "outputs": [
    {
     "data": {
      "text/html": [
       "<div>\n",
       "<style scoped>\n",
       "    .dataframe tbody tr th:only-of-type {\n",
       "        vertical-align: middle;\n",
       "    }\n",
       "\n",
       "    .dataframe tbody tr th {\n",
       "        vertical-align: top;\n",
       "    }\n",
       "\n",
       "    .dataframe thead th {\n",
       "        text-align: right;\n",
       "    }\n",
       "</style>\n",
       "<table border=\"1\" class=\"dataframe\">\n",
       "  <thead>\n",
       "    <tr style=\"text-align: right;\">\n",
       "      <th></th>\n",
       "      <th>Call Price</th>\n",
       "      <th>Strike Price</th>\n",
       "      <th>Put Price</th>\n",
       "      <th>IV</th>\n",
       "    </tr>\n",
       "  </thead>\n",
       "  <tbody>\n",
       "    <tr>\n",
       "      <th>123</th>\n",
       "      <td>448.30</td>\n",
       "      <td>4040</td>\n",
       "      <td>15.6</td>\n",
       "      <td>0.254353</td>\n",
       "    </tr>\n",
       "    <tr>\n",
       "      <th>124</th>\n",
       "      <td>438.70</td>\n",
       "      <td>4050</td>\n",
       "      <td>16.1</td>\n",
       "      <td>0.251952</td>\n",
       "    </tr>\n",
       "    <tr>\n",
       "      <th>125</th>\n",
       "      <td>429.20</td>\n",
       "      <td>4060</td>\n",
       "      <td>16.5</td>\n",
       "      <td>0.249056</td>\n",
       "    </tr>\n",
       "    <tr>\n",
       "      <th>126</th>\n",
       "      <td>419.70</td>\n",
       "      <td>4070</td>\n",
       "      <td>17.0</td>\n",
       "      <td>0.246503</td>\n",
       "    </tr>\n",
       "    <tr>\n",
       "      <th>127</th>\n",
       "      <td>410.20</td>\n",
       "      <td>4080</td>\n",
       "      <td>17.6</td>\n",
       "      <td>0.244265</td>\n",
       "    </tr>\n",
       "    <tr>\n",
       "      <th>...</th>\n",
       "      <td>...</td>\n",
       "      <td>...</td>\n",
       "      <td>...</td>\n",
       "      <td>...</td>\n",
       "    </tr>\n",
       "    <tr>\n",
       "      <th>208</th>\n",
       "      <td>0.35</td>\n",
       "      <td>4870</td>\n",
       "      <td>397.6</td>\n",
       "      <td>0.187856</td>\n",
       "    </tr>\n",
       "    <tr>\n",
       "      <th>209</th>\n",
       "      <td>0.30</td>\n",
       "      <td>4880</td>\n",
       "      <td>407.6</td>\n",
       "      <td>0.191314</td>\n",
       "    </tr>\n",
       "    <tr>\n",
       "      <th>210</th>\n",
       "      <td>0.30</td>\n",
       "      <td>4890</td>\n",
       "      <td>417.6</td>\n",
       "      <td>0.194750</td>\n",
       "    </tr>\n",
       "    <tr>\n",
       "      <th>211</th>\n",
       "      <td>0.25</td>\n",
       "      <td>4900</td>\n",
       "      <td>427.5</td>\n",
       "      <td>0.197694</td>\n",
       "    </tr>\n",
       "    <tr>\n",
       "      <th>212</th>\n",
       "      <td>0.25</td>\n",
       "      <td>4910</td>\n",
       "      <td>437.5</td>\n",
       "      <td>0.201084</td>\n",
       "    </tr>\n",
       "  </tbody>\n",
       "</table>\n",
       "<p>90 rows × 4 columns</p>\n",
       "</div>"
      ],
      "text/plain": [
       "     Call Price  Strike Price  Put Price        IV\n",
       "123      448.30          4040       15.6  0.254353\n",
       "124      438.70          4050       16.1  0.251952\n",
       "125      429.20          4060       16.5  0.249056\n",
       "126      419.70          4070       17.0  0.246503\n",
       "127      410.20          4080       17.6  0.244265\n",
       "..          ...           ...        ...       ...\n",
       "208        0.35          4870      397.6  0.187856\n",
       "209        0.30          4880      407.6  0.191314\n",
       "210        0.30          4890      417.6  0.194750\n",
       "211        0.25          4900      427.5  0.197694\n",
       "212        0.25          4910      437.5  0.201084\n",
       "\n",
       "[90 rows x 4 columns]"
      ]
     },
     "execution_count": 55,
     "metadata": {},
     "output_type": "execute_result"
    }
   ],
   "source": [
    "implieds = np.zeros(len(df1))\n",
    "\n",
    "for i in range(len(df1)):\n",
    "    implieds[i] = find_vol(df1['Put Price'].iloc[i], F0, df1['Strike Price'].iloc[i], T1, r)\n",
    "    \n",
    "df1['IV'] = implieds\n",
    "df1"
   ]
  },
  {
   "cell_type": "code",
   "execution_count": 56,
   "metadata": {},
   "outputs": [
    {
     "data": {
      "image/png": "[encoded data removed]",
      "text/plain": [
       "<Figure size 432x288 with 1 Axes>"
      ]
     },
     "metadata": {},
     "output_type": "display_data"
    }
   ],
   "source": [
    "plt.title('IV smirk')\n",
    "\n",
    "plt.plot(df1['Strike Price'] / F0, df1['IV'])\n",
    "\n",
    "plt.ylabel('Волатильность')\n",
    "plt.xlabel('Денежность')\n",
    "\n",
    "plt.show()"
   ]
  },
  {
   "cell_type": "markdown",
   "metadata": {},
   "source": [
    "Судя по графику зависимости подразумеваемой волатильности от денежности базового актива, можно сделать вывод, что АТМ-путы стоят дороже, чем должны. Они менее волатильны, следовательно, должны стоить дешевле (следует из формулы Блэка-Шоулза), чем в данный момент на рынке. Поэтому они переоценены, и стратегия шортить фьючерс на S&P аргументирована."
   ]
  },
  {
   "cell_type": "markdown",
   "metadata": {},
   "source": [
    "__Часть 2.__ "
   ]
  },
  {
   "cell_type": "markdown",
   "metadata": {},
   "source": [
    "Подготовим данные для обучения"
   ]
  },
  {
   "cell_type": "code",
   "execution_count": 57,
   "metadata": {},
   "outputs": [],
   "source": [
    "start = dt.datetime(2010, 1, 1) #начальная дата - начало 2010 года\n",
    "end = dt.datetime(2021, 8, 27) #конечная дата - 27 августа 2021 года"
   ]
  },
  {
   "cell_type": "code",
   "execution_count": 58,
   "metadata": {},
   "outputs": [],
   "source": [
    "VIX = web.DataReader('^VIX', \"yahoo\",start, end)['Adj Close']\n",
    "VIX = pd.DataFrame(VIX)\n",
    "SPY = web.DataReader('SPY', \"yahoo\",start, end)['Adj Close']\n",
    "SPY = pd.DataFrame(SPY)\n",
    "LIBOR = web.DataReader('USD1MTD156N', \"fred\",start, end)\n",
    "LIBOR = pd.DataFrame(LIBOR)"
   ]
  },
  {
   "cell_type": "code",
   "execution_count": 59,
   "metadata": {},
   "outputs": [],
   "source": [
    "df2 = VIX.merge(SPY, left_index=True, right_index=True)"
   ]
  },
  {
   "cell_type": "code",
   "execution_count": 60,
   "metadata": {},
   "outputs": [],
   "source": [
    "df2 = df2.merge(LIBOR, left_index=True, right_index=True)"
   ]
  },
  {
   "cell_type": "code",
   "execution_count": 61,
   "metadata": {},
   "outputs": [],
   "source": [
    "df2.columns = ['VIX','SPY', 'LIBOR']"
   ]
  },
  {
   "cell_type": "code",
   "execution_count": 62,
   "metadata": {},
   "outputs": [],
   "source": [
    "df2 = df2.resample('M').first() #сэмплируем по последним датам каждого месяца"
   ]
  },
  {
   "cell_type": "code",
   "execution_count": 63,
   "metadata": {},
   "outputs": [],
   "source": [
    "df2['VIX'] = df2['VIX'] / 100"
   ]
  },
  {
   "cell_type": "code",
   "execution_count": 64,
   "metadata": {},
   "outputs": [],
   "source": [
    "df2['LIBOR'] = df2['LIBOR'] / 100 "
   ]
  },
  {
   "cell_type": "code",
   "execution_count": 65,
   "metadata": {},
   "outputs": [
    {
     "data": {
      "text/html": [
       "<div>\n",
       "<style scoped>\n",
       "    .dataframe tbody tr th:only-of-type {\n",
       "        vertical-align: middle;\n",
       "    }\n",
       "\n",
       "    .dataframe tbody tr th {\n",
       "        vertical-align: top;\n",
       "    }\n",
       "\n",
       "    .dataframe thead th {\n",
       "        text-align: right;\n",
       "    }\n",
       "</style>\n",
       "<table border=\"1\" class=\"dataframe\">\n",
       "  <thead>\n",
       "    <tr style=\"text-align: right;\">\n",
       "      <th></th>\n",
       "      <th>VIX</th>\n",
       "      <th>SPY</th>\n",
       "      <th>LIBOR</th>\n",
       "    </tr>\n",
       "  </thead>\n",
       "  <tbody>\n",
       "    <tr>\n",
       "      <th>2010-01-31</th>\n",
       "      <td>0.2004</td>\n",
       "      <td>90.493996</td>\n",
       "      <td>0.002334</td>\n",
       "    </tr>\n",
       "    <tr>\n",
       "      <th>2010-02-28</th>\n",
       "      <td>0.2259</td>\n",
       "      <td>87.084412</td>\n",
       "      <td>0.002291</td>\n",
       "    </tr>\n",
       "    <tr>\n",
       "      <th>2010-03-31</th>\n",
       "      <td>0.1926</td>\n",
       "      <td>89.344177</td>\n",
       "      <td>0.002281</td>\n",
       "    </tr>\n",
       "    <tr>\n",
       "      <th>2010-04-30</th>\n",
       "      <td>0.1747</td>\n",
       "      <td>94.450661</td>\n",
       "      <td>0.002486</td>\n",
       "    </tr>\n",
       "    <tr>\n",
       "      <th>2010-05-31</th>\n",
       "      <td>0.2019</td>\n",
       "      <td>96.495224</td>\n",
       "      <td>0.002847</td>\n",
       "    </tr>\n",
       "    <tr>\n",
       "      <th>...</th>\n",
       "      <td>...</td>\n",
       "      <td>...</td>\n",
       "      <td>...</td>\n",
       "    </tr>\n",
       "    <tr>\n",
       "      <th>2021-04-30</th>\n",
       "      <td>0.1733</td>\n",
       "      <td>399.303619</td>\n",
       "      <td>0.001104</td>\n",
       "    </tr>\n",
       "    <tr>\n",
       "      <th>2021-05-31</th>\n",
       "      <td>0.1831</td>\n",
       "      <td>416.836304</td>\n",
       "      <td>0.001084</td>\n",
       "    </tr>\n",
       "    <tr>\n",
       "      <th>2021-06-30</th>\n",
       "      <td>0.1790</td>\n",
       "      <td>418.301514</td>\n",
       "      <td>0.000887</td>\n",
       "    </tr>\n",
       "    <tr>\n",
       "      <th>2021-07-31</th>\n",
       "      <td>0.1548</td>\n",
       "      <td>430.429993</td>\n",
       "      <td>0.001025</td>\n",
       "    </tr>\n",
       "    <tr>\n",
       "      <th>2021-08-31</th>\n",
       "      <td>0.1946</td>\n",
       "      <td>437.589996</td>\n",
       "      <td>0.000896</td>\n",
       "    </tr>\n",
       "  </tbody>\n",
       "</table>\n",
       "<p>140 rows × 3 columns</p>\n",
       "</div>"
      ],
      "text/plain": [
       "               VIX         SPY     LIBOR\n",
       "2010-01-31  0.2004   90.493996  0.002334\n",
       "2010-02-28  0.2259   87.084412  0.002291\n",
       "2010-03-31  0.1926   89.344177  0.002281\n",
       "2010-04-30  0.1747   94.450661  0.002486\n",
       "2010-05-31  0.2019   96.495224  0.002847\n",
       "...            ...         ...       ...\n",
       "2021-04-30  0.1733  399.303619  0.001104\n",
       "2021-05-31  0.1831  416.836304  0.001084\n",
       "2021-06-30  0.1790  418.301514  0.000887\n",
       "2021-07-31  0.1548  430.429993  0.001025\n",
       "2021-08-31  0.1946  437.589996  0.000896\n",
       "\n",
       "[140 rows x 3 columns]"
      ]
     },
     "execution_count": 65,
     "metadata": {},
     "output_type": "execute_result"
    }
   ],
   "source": [
    "df2 #данные с показателями индексов VIX, SPY и LIBOR"
   ]
  },
  {
   "cell_type": "code",
   "execution_count": 66,
   "metadata": {},
   "outputs": [],
   "source": [
    "T2 = 25/252"
   ]
  },
  {
   "cell_type": "code",
   "execution_count": 67,
   "metadata": {},
   "outputs": [],
   "source": [
    "puts = np.zeros(len(df2))\n",
    "\n",
    "for i in range(0, len(df2.VIX) - 1):\n",
    "    puts[i]= black(df2['SPY'].iloc[i], df2['SPY'].iloc[i], T2,df2['LIBOR'].iloc[i], df2['VIX'].iloc[i]) \n",
    "df2['Puts'] = puts"
   ]
  },
  {
   "cell_type": "code",
   "execution_count": 68,
   "metadata": {},
   "outputs": [],
   "source": [
    "df2_train = df2[(df2.index.year < 2020)].copy() #train sample\n",
    "df2_test = df2[(df2.index.year>= 2020) & (df2.index.year <= 2021) & (df2.index.month != 8)].copy() #test sample"
   ]
  },
  {
   "cell_type": "code",
   "execution_count": 69,
   "metadata": {},
   "outputs": [
    {
     "data": {
      "text/html": [
       "<div>\n",
       "<style scoped>\n",
       "    .dataframe tbody tr th:only-of-type {\n",
       "        vertical-align: middle;\n",
       "    }\n",
       "\n",
       "    .dataframe tbody tr th {\n",
       "        vertical-align: top;\n",
       "    }\n",
       "\n",
       "    .dataframe thead th {\n",
       "        text-align: right;\n",
       "    }\n",
       "</style>\n",
       "<table border=\"1\" class=\"dataframe\">\n",
       "  <thead>\n",
       "    <tr style=\"text-align: right;\">\n",
       "      <th></th>\n",
       "      <th>VIX</th>\n",
       "      <th>SPY</th>\n",
       "      <th>LIBOR</th>\n",
       "      <th>Puts</th>\n",
       "    </tr>\n",
       "  </thead>\n",
       "  <tbody>\n",
       "    <tr>\n",
       "      <th>2020-01-31</th>\n",
       "      <td>0.1247</td>\n",
       "      <td>316.836670</td>\n",
       "      <td>0.017344</td>\n",
       "      <td>4.955717</td>\n",
       "    </tr>\n",
       "    <tr>\n",
       "      <th>2020-02-29</th>\n",
       "      <td>0.1797</td>\n",
       "      <td>316.105225</td>\n",
       "      <td>0.016678</td>\n",
       "      <td>7.124970</td>\n",
       "    </tr>\n",
       "    <tr>\n",
       "      <th>2020-03-31</th>\n",
       "      <td>0.3342</td>\n",
       "      <td>301.446869</td>\n",
       "      <td>0.013558</td>\n",
       "      <td>12.636081</td>\n",
       "    </tr>\n",
       "    <tr>\n",
       "      <th>2020-04-30</th>\n",
       "      <td>0.5706</td>\n",
       "      <td>241.474884</td>\n",
       "      <td>0.010163</td>\n",
       "      <td>17.272751</td>\n",
       "    </tr>\n",
       "    <tr>\n",
       "      <th>2020-05-31</th>\n",
       "      <td>0.3719</td>\n",
       "      <td>277.419006</td>\n",
       "      <td>0.003034</td>\n",
       "      <td>12.952787</td>\n",
       "    </tr>\n",
       "  </tbody>\n",
       "</table>\n",
       "</div>"
      ],
      "text/plain": [
       "               VIX         SPY     LIBOR       Puts\n",
       "2020-01-31  0.1247  316.836670  0.017344   4.955717\n",
       "2020-02-29  0.1797  316.105225  0.016678   7.124970\n",
       "2020-03-31  0.3342  301.446869  0.013558  12.636081\n",
       "2020-04-30  0.5706  241.474884  0.010163  17.272751\n",
       "2020-05-31  0.3719  277.419006  0.003034  12.952787"
      ]
     },
     "execution_count": 69,
     "metadata": {},
     "output_type": "execute_result"
    }
   ],
   "source": [
    "df2_test.head() #премии, рассчитанные для тестовой выборки"
   ]
  },
  {
   "cell_type": "code",
   "execution_count": 70,
   "metadata": {},
   "outputs": [
    {
     "data": {
      "text/html": [
       "<div>\n",
       "<style scoped>\n",
       "    .dataframe tbody tr th:only-of-type {\n",
       "        vertical-align: middle;\n",
       "    }\n",
       "\n",
       "    .dataframe tbody tr th {\n",
       "        vertical-align: top;\n",
       "    }\n",
       "\n",
       "    .dataframe thead th {\n",
       "        text-align: right;\n",
       "    }\n",
       "</style>\n",
       "<table border=\"1\" class=\"dataframe\">\n",
       "  <thead>\n",
       "    <tr style=\"text-align: right;\">\n",
       "      <th></th>\n",
       "      <th>VIX</th>\n",
       "      <th>SPY</th>\n",
       "      <th>LIBOR</th>\n",
       "      <th>Puts</th>\n",
       "    </tr>\n",
       "  </thead>\n",
       "  <tbody>\n",
       "    <tr>\n",
       "      <th>2010-01-31</th>\n",
       "      <td>0.2004</td>\n",
       "      <td>90.493996</td>\n",
       "      <td>0.002334</td>\n",
       "      <td>2.277847</td>\n",
       "    </tr>\n",
       "    <tr>\n",
       "      <th>2010-02-28</th>\n",
       "      <td>0.2259</td>\n",
       "      <td>87.084412</td>\n",
       "      <td>0.002291</td>\n",
       "      <td>2.470849</td>\n",
       "    </tr>\n",
       "    <tr>\n",
       "      <th>2010-03-31</th>\n",
       "      <td>0.1926</td>\n",
       "      <td>89.344177</td>\n",
       "      <td>0.002281</td>\n",
       "      <td>2.161412</td>\n",
       "    </tr>\n",
       "    <tr>\n",
       "      <th>2010-04-30</th>\n",
       "      <td>0.1747</td>\n",
       "      <td>94.450661</td>\n",
       "      <td>0.002486</td>\n",
       "      <td>2.072601</td>\n",
       "    </tr>\n",
       "    <tr>\n",
       "      <th>2010-05-31</th>\n",
       "      <td>0.2019</td>\n",
       "      <td>96.495224</td>\n",
       "      <td>0.002847</td>\n",
       "      <td>2.446956</td>\n",
       "    </tr>\n",
       "  </tbody>\n",
       "</table>\n",
       "</div>"
      ],
      "text/plain": [
       "               VIX        SPY     LIBOR      Puts\n",
       "2010-01-31  0.2004  90.493996  0.002334  2.277847\n",
       "2010-02-28  0.2259  87.084412  0.002291  2.470849\n",
       "2010-03-31  0.1926  89.344177  0.002281  2.161412\n",
       "2010-04-30  0.1747  94.450661  0.002486  2.072601\n",
       "2010-05-31  0.2019  96.495224  0.002847  2.446956"
      ]
     },
     "execution_count": 70,
     "metadata": {},
     "output_type": "execute_result"
    }
   ],
   "source": [
    "df2_train.head() #премии, рассчитанные для обучающей выборки"
   ]
  },
  {
   "cell_type": "markdown",
   "metadata": {},
   "source": [
    "Далее решим оптимизационную задачу.\n",
    "В массиве X_variables лежит арифметическая прогрессия от 0.1 до 1.0, в которой 15 членов. Выберем из этого массива тот X, при котором коэффициент Шарпа достигает максимального значения."
   ]
  },
  {
   "cell_type": "code",
   "execution_count": 71,
   "metadata": {},
   "outputs": [
    {
     "data": {
      "text/html": [
       "<div>\n",
       "<style scoped>\n",
       "    .dataframe tbody tr th:only-of-type {\n",
       "        vertical-align: middle;\n",
       "    }\n",
       "\n",
       "    .dataframe tbody tr th {\n",
       "        vertical-align: top;\n",
       "    }\n",
       "\n",
       "    .dataframe thead th {\n",
       "        text-align: right;\n",
       "    }\n",
       "</style>\n",
       "<table border=\"1\" class=\"dataframe\">\n",
       "  <thead>\n",
       "    <tr style=\"text-align: right;\">\n",
       "      <th></th>\n",
       "      <th>VIX</th>\n",
       "      <th>SPY</th>\n",
       "      <th>LIBOR</th>\n",
       "      <th>Puts</th>\n",
       "      <th>Strategy</th>\n",
       "    </tr>\n",
       "  </thead>\n",
       "  <tbody>\n",
       "    <tr>\n",
       "      <th>2010-01-31</th>\n",
       "      <td>0.2004</td>\n",
       "      <td>90.493996</td>\n",
       "      <td>0.002334</td>\n",
       "      <td>2.277847</td>\n",
       "      <td>NaN</td>\n",
       "    </tr>\n",
       "    <tr>\n",
       "      <th>2010-02-28</th>\n",
       "      <td>0.2259</td>\n",
       "      <td>87.084412</td>\n",
       "      <td>0.002291</td>\n",
       "      <td>2.470849</td>\n",
       "      <td>-1.131737</td>\n",
       "    </tr>\n",
       "    <tr>\n",
       "      <th>2010-03-31</th>\n",
       "      <td>0.1926</td>\n",
       "      <td>89.344177</td>\n",
       "      <td>0.002281</td>\n",
       "      <td>2.161412</td>\n",
       "      <td>2.470849</td>\n",
       "    </tr>\n",
       "    <tr>\n",
       "      <th>2010-04-30</th>\n",
       "      <td>0.1747</td>\n",
       "      <td>94.450661</td>\n",
       "      <td>0.002486</td>\n",
       "      <td>2.072601</td>\n",
       "      <td>2.161412</td>\n",
       "    </tr>\n",
       "    <tr>\n",
       "      <th>2010-05-31</th>\n",
       "      <td>0.2019</td>\n",
       "      <td>96.495224</td>\n",
       "      <td>0.002847</td>\n",
       "      <td>2.446956</td>\n",
       "      <td>2.072601</td>\n",
       "    </tr>\n",
       "    <tr>\n",
       "      <th>...</th>\n",
       "      <td>...</td>\n",
       "      <td>...</td>\n",
       "      <td>...</td>\n",
       "      <td>...</td>\n",
       "      <td>...</td>\n",
       "    </tr>\n",
       "    <tr>\n",
       "      <th>2019-08-31</th>\n",
       "      <td>0.1787</td>\n",
       "      <td>284.827087</td>\n",
       "      <td>0.022441</td>\n",
       "      <td>6.380599</td>\n",
       "      <td>4.241567</td>\n",
       "    </tr>\n",
       "    <tr>\n",
       "      <th>2019-09-30</th>\n",
       "      <td>0.1966</td>\n",
       "      <td>280.866302</td>\n",
       "      <td>0.020669</td>\n",
       "      <td>6.923139</td>\n",
       "      <td>2.419814</td>\n",
       "    </tr>\n",
       "    <tr>\n",
       "      <th>2019-10-31</th>\n",
       "      <td>0.1856</td>\n",
       "      <td>284.589630</td>\n",
       "      <td>0.020109</td>\n",
       "      <td>6.622906</td>\n",
       "      <td>6.923139</td>\n",
       "    </tr>\n",
       "    <tr>\n",
       "      <th>2019-11-30</th>\n",
       "      <td>0.1230</td>\n",
       "      <td>297.109131</td>\n",
       "      <td>0.017743</td>\n",
       "      <td>4.583628</td>\n",
       "      <td>6.622906</td>\n",
       "    </tr>\n",
       "    <tr>\n",
       "      <th>2019-12-31</th>\n",
       "      <td>0.1491</td>\n",
       "      <td>302.446838</td>\n",
       "      <td>0.016938</td>\n",
       "      <td>5.656357</td>\n",
       "      <td>4.583628</td>\n",
       "    </tr>\n",
       "  </tbody>\n",
       "</table>\n",
       "<p>120 rows × 5 columns</p>\n",
       "</div>"
      ],
      "text/plain": [
       "               VIX         SPY     LIBOR      Puts  Strategy\n",
       "2010-01-31  0.2004   90.493996  0.002334  2.277847       NaN\n",
       "2010-02-28  0.2259   87.084412  0.002291  2.470849 -1.131737\n",
       "2010-03-31  0.1926   89.344177  0.002281  2.161412  2.470849\n",
       "2010-04-30  0.1747   94.450661  0.002486  2.072601  2.161412\n",
       "2010-05-31  0.2019   96.495224  0.002847  2.446956  2.072601\n",
       "...            ...         ...       ...       ...       ...\n",
       "2019-08-31  0.1787  284.827087  0.022441  6.380599  4.241567\n",
       "2019-09-30  0.1966  280.866302  0.020669  6.923139  2.419814\n",
       "2019-10-31  0.1856  284.589630  0.020109  6.622906  6.923139\n",
       "2019-11-30  0.1230  297.109131  0.017743  4.583628  6.622906\n",
       "2019-12-31  0.1491  302.446838  0.016938  5.656357  4.583628\n",
       "\n",
       "[120 rows x 5 columns]"
      ]
     },
     "execution_count": 71,
     "metadata": {},
     "output_type": "execute_result"
    }
   ],
   "source": [
    "X_variables = np.linspace(0.1,1,15)\n",
    "sharpe = []\n",
    "#на обучающей выборке для соответствующего X из X_variables рассчитываем коэффициент Шарпа\n",
    "for X in X_variables:\n",
    "    p = np.where(df2_train['SPY'] <= df2_train['SPY'].shift(1), \\\n",
    "                df2_train['SPY'] - df2_train['SPY'].shift(1) + df2_train['Puts'].shift(1), df2_train['Puts'].shift(1))\n",
    "\n",
    "    \n",
    "    df2_train['Strategy'] = 0\n",
    "    df2_train['Strategy'] = np.where(df2_train['VIX'] >= X, 0, p)\n",
    "    sharpe.append(df2_train['Strategy'].mean() / df2_train['Strategy'].std())\n",
    "df2_train"
   ]
  },
  {
   "cell_type": "code",
   "execution_count": 72,
   "metadata": {},
   "outputs": [],
   "source": [
    "model_choice = pd.DataFrame()"
   ]
  },
  {
   "cell_type": "code",
   "execution_count": 73,
   "metadata": {},
   "outputs": [],
   "source": [
    "model_choice['VIX'] = X_variables\n",
    "model_choice['Sharpe'] = sharpe"
   ]
  },
  {
   "cell_type": "code",
   "execution_count": 74,
   "metadata": {},
   "outputs": [
    {
     "data": {
      "text/html": [
       "<div>\n",
       "<style scoped>\n",
       "    .dataframe tbody tr th:only-of-type {\n",
       "        vertical-align: middle;\n",
       "    }\n",
       "\n",
       "    .dataframe tbody tr th {\n",
       "        vertical-align: top;\n",
       "    }\n",
       "\n",
       "    .dataframe thead th {\n",
       "        text-align: right;\n",
       "    }\n",
       "</style>\n",
       "<table border=\"1\" class=\"dataframe\">\n",
       "  <thead>\n",
       "    <tr style=\"text-align: right;\">\n",
       "      <th></th>\n",
       "      <th>VIX</th>\n",
       "      <th>Sharpe</th>\n",
       "    </tr>\n",
       "  </thead>\n",
       "  <tbody>\n",
       "    <tr>\n",
       "      <th>0</th>\n",
       "      <td>0.100000</td>\n",
       "      <td>0.158570</td>\n",
       "    </tr>\n",
       "    <tr>\n",
       "      <th>1</th>\n",
       "      <td>0.164286</td>\n",
       "      <td>0.947803</td>\n",
       "    </tr>\n",
       "    <tr>\n",
       "      <th>2</th>\n",
       "      <td>0.228571</td>\n",
       "      <td>0.694804</td>\n",
       "    </tr>\n",
       "    <tr>\n",
       "      <th>3</th>\n",
       "      <td>0.292857</td>\n",
       "      <td>0.495797</td>\n",
       "    </tr>\n",
       "    <tr>\n",
       "      <th>4</th>\n",
       "      <td>0.357143</td>\n",
       "      <td>0.416012</td>\n",
       "    </tr>\n",
       "    <tr>\n",
       "      <th>5</th>\n",
       "      <td>0.421429</td>\n",
       "      <td>0.416012</td>\n",
       "    </tr>\n",
       "    <tr>\n",
       "      <th>6</th>\n",
       "      <td>0.485714</td>\n",
       "      <td>0.403178</td>\n",
       "    </tr>\n",
       "    <tr>\n",
       "      <th>7</th>\n",
       "      <td>0.550000</td>\n",
       "      <td>0.403178</td>\n",
       "    </tr>\n",
       "    <tr>\n",
       "      <th>8</th>\n",
       "      <td>0.614286</td>\n",
       "      <td>0.403178</td>\n",
       "    </tr>\n",
       "    <tr>\n",
       "      <th>9</th>\n",
       "      <td>0.678571</td>\n",
       "      <td>0.403178</td>\n",
       "    </tr>\n",
       "    <tr>\n",
       "      <th>10</th>\n",
       "      <td>0.742857</td>\n",
       "      <td>0.403178</td>\n",
       "    </tr>\n",
       "    <tr>\n",
       "      <th>11</th>\n",
       "      <td>0.807143</td>\n",
       "      <td>0.403178</td>\n",
       "    </tr>\n",
       "    <tr>\n",
       "      <th>12</th>\n",
       "      <td>0.871429</td>\n",
       "      <td>0.403178</td>\n",
       "    </tr>\n",
       "    <tr>\n",
       "      <th>13</th>\n",
       "      <td>0.935714</td>\n",
       "      <td>0.403178</td>\n",
       "    </tr>\n",
       "    <tr>\n",
       "      <th>14</th>\n",
       "      <td>1.000000</td>\n",
       "      <td>0.403178</td>\n",
       "    </tr>\n",
       "  </tbody>\n",
       "</table>\n",
       "</div>"
      ],
      "text/plain": [
       "         VIX    Sharpe\n",
       "0   0.100000  0.158570\n",
       "1   0.164286  0.947803\n",
       "2   0.228571  0.694804\n",
       "3   0.292857  0.495797\n",
       "4   0.357143  0.416012\n",
       "5   0.421429  0.416012\n",
       "6   0.485714  0.403178\n",
       "7   0.550000  0.403178\n",
       "8   0.614286  0.403178\n",
       "9   0.678571  0.403178\n",
       "10  0.742857  0.403178\n",
       "11  0.807143  0.403178\n",
       "12  0.871429  0.403178\n",
       "13  0.935714  0.403178\n",
       "14  1.000000  0.403178"
      ]
     },
     "execution_count": 74,
     "metadata": {},
     "output_type": "execute_result"
    }
   ],
   "source": [
    "model_choice #коэффициенты Шарпа, соответстующие данному значению индекса VIX"
   ]
  },
  {
   "cell_type": "code",
   "execution_count": 75,
   "metadata": {},
   "outputs": [
    {
     "data": {
      "text/html": [
       "<div>\n",
       "<style scoped>\n",
       "    .dataframe tbody tr th:only-of-type {\n",
       "        vertical-align: middle;\n",
       "    }\n",
       "\n",
       "    .dataframe tbody tr th {\n",
       "        vertical-align: top;\n",
       "    }\n",
       "\n",
       "    .dataframe thead th {\n",
       "        text-align: right;\n",
       "    }\n",
       "</style>\n",
       "<table border=\"1\" class=\"dataframe\">\n",
       "  <thead>\n",
       "    <tr style=\"text-align: right;\">\n",
       "      <th></th>\n",
       "      <th>VIX</th>\n",
       "      <th>Sharpe</th>\n",
       "    </tr>\n",
       "  </thead>\n",
       "  <tbody>\n",
       "    <tr>\n",
       "      <th>1</th>\n",
       "      <td>0.164286</td>\n",
       "      <td>0.947803</td>\n",
       "    </tr>\n",
       "  </tbody>\n",
       "</table>\n",
       "</div>"
      ],
      "text/plain": [
       "        VIX    Sharpe\n",
       "1  0.164286  0.947803"
      ]
     },
     "execution_count": 75,
     "metadata": {},
     "output_type": "execute_result"
    }
   ],
   "source": [
    "model_choice[model_choice['Sharpe'] == model_choice['Sharpe'].max()][['VIX','Sharpe']]"
   ]
  },
  {
   "cell_type": "markdown",
   "metadata": {},
   "source": [
    "Максимальный показатель Шарпа на обучающей выборке достигается при X ~ 0.164."
   ]
  },
  {
   "cell_type": "code",
   "execution_count": 76,
   "metadata": {},
   "outputs": [],
   "source": [
    "sharpe_train = model_choice['Sharpe'].iloc[1]"
   ]
  },
  {
   "cell_type": "code",
   "execution_count": 77,
   "metadata": {},
   "outputs": [
    {
     "name": "stdout",
     "output_type": "stream",
     "text": [
      "Коэффициент Шарпа на обучающей выборке равен  0.948\n"
     ]
    }
   ],
   "source": [
    "print('Коэффициент Шарпа на обучающей выборке равен ', round(sharpe_train, 3))"
   ]
  },
  {
   "cell_type": "code",
   "execution_count": 78,
   "metadata": {},
   "outputs": [],
   "source": [
    "p = np.where(df2_test['SPY'] <= df2_test['SPY'].shift(1), \\\n",
    "                    df2_test['SPY'] - df2_test['SPY'].shift(1) + df2_test['Puts'].shift(1), df2_test['Puts'].shift(1))\n",
    "\n",
    "    \n",
    "df2_test['Strategy'] = 0\n",
    "df2_test['Strategy'] = np.where(df2_test['VIX'] >= X, 0, p)\n",
    "sharpe_test = df2_test['Strategy'].mean() / df2_test['Strategy'].std()"
   ]
  },
  {
   "cell_type": "code",
   "execution_count": 79,
   "metadata": {
    "scrolled": true
   },
   "outputs": [
    {
     "name": "stdout",
     "output_type": "stream",
     "text": [
      "Коэффициент Шарпа на тестовой выборке равен  0.367\n"
     ]
    }
   ],
   "source": [
    "print('Коэффициент Шарпа на тестовой выборке равен ', round(sharpe_test, 3))"
   ]
  },
  {
   "cell_type": "markdown",
   "metadata": {},
   "source": [
    "__Часть 3.__ \n",
    "\n",
    "Рассчитаем абсолютную максимальную просадку в случае обучающей и тестовой выборки"
   ]
  },
  {
   "cell_type": "code",
   "execution_count": 84,
   "metadata": {},
   "outputs": [
    {
     "data": {
      "text/plain": [
       "-24.573759007990027"
      ]
     },
     "execution_count": 84,
     "metadata": {},
     "output_type": "execute_result"
    }
   ],
   "source": [
    "df2_train['Returns'] = df2_train['Strategy'] - df2_train['Strategy'].shift(1)\n",
    "drawdown_df2_train.min()"
   ]
  },
  {
   "cell_type": "code",
   "execution_count": 89,
   "metadata": {},
   "outputs": [
    {
     "data": {
      "text/plain": [
       "-7.6187680907745134"
      ]
     },
     "execution_count": 89,
     "metadata": {},
     "output_type": "execute_result"
    }
   ],
   "source": [
    "df2_test['Returns'] = df2_test['Strategy'] - df2_test['Strategy'].shift(1)\n",
    "drawdown_df2_test.min()"
   ]
  },
  {
   "cell_type": "code",
   "execution_count": 82,
   "metadata": {},
   "outputs": [
    {
     "data": {
      "image/png": "[encoded data removed]",
      "text/plain": [
       "<Figure size 720x360 with 1 Axes>"
      ]
     },
     "metadata": {},
     "output_type": "display_data"
    }
   ],
   "source": [
    "plt.figure(figsize = (10, 5))\n",
    "\n",
    "plt.suptitle('Динамика прибыли на обучающей выборке')\n",
    "plt.ylabel('Прибыль')\n",
    "plt.xlabel('Время')\n",
    "\n",
    "plt.plot(df2_train['Strategy'], color = 'black')\n",
    "\n",
    "plt.grid(True)\n",
    "plt.show()"
   ]
  },
  {
   "cell_type": "code",
   "execution_count": 83,
   "metadata": {},
   "outputs": [
    {
     "data": {
      "image/png": "[encoded data removed]",
      "text/plain": [
       "<Figure size 720x360 with 1 Axes>"
      ]
     },
     "metadata": {},
     "output_type": "display_data"
    }
   ],
   "source": [
    "plt.figure(figsize = (10, 5))\n",
    "\n",
    "plt.suptitle('Динамика прибыли на тестовой выборке')\n",
    "plt.ylabel('Прибыль')\n",
    "plt.xlabel('Время')\n",
    "\n",
    "plt.plot(df2_test['Strategy'], color = 'black')\n",
    "\n",
    "plt.grid(True)\n",
    "plt.show()"
   ]
  },
  {
   "cell_type": "markdown",
   "metadata": {},
   "source": [
    "Отношение накопленной доходности рассчитана, как отношение абсолютной прибыли к абсолютному значению просадки, так как начального капитала мы не имели и в данном случае показатель доходности не имеет смысла."
   ]
  },
  {
   "cell_type": "code",
   "execution_count": 90,
   "metadata": {
    "scrolled": true
   },
   "outputs": [
    {
     "name": "stdout",
     "output_type": "stream",
     "text": [
      "+-----------+----------------------+-------------------+----------------------------------------------------------+\n",
      "|  Выборка  | Прибыль со стратегии | Коэффициент Шарпа | Отношение накопленной доходности к максимальной просадке |\n",
      "+-----------+----------------------+-------------------+----------------------------------------------------------+\n",
      "| Обучающая |       202.922        |       0.948       |                          8.258                           |\n",
      "|  Тестовая |        93.339        |       0.367       |                          12.251                          |\n",
      "+-----------+----------------------+-------------------+----------------------------------------------------------+\n"
     ]
    }
   ],
   "source": [
    "t = PrettyTable(['Выборка', 'Прибыль со стратегии', 'Коэффициент Шарпа', 'Отношение накопленной доходности к максимальной просадке'])\n",
    "t.add_row(['Обучающая', round(df2_train['Strategy'].sum(), 3), round(sharpe_train, 3), round(df2_train['Strategy'].sum()/abs(drawdown_df2_train.min()), 3)])\n",
    "t.add_row(['Тестовая', round(df2_test['Strategy'].sum(), 3), round(sharpe_test, 3), round(df2_test['Strategy'].sum()/abs(drawdown_df2_test.min()), 3)])\n",
    "print(t)"
   ]
  },
  {
   "cell_type": "code",
   "execution_count": null,
   "metadata": {},
   "outputs": [],
   "source": []
  },
  {
   "cell_type": "code",
   "execution_count": null,
   "metadata": {},
   "outputs": [],
   "source": []
  },
  {
   "cell_type": "code",
   "execution_count": null,
   "metadata": {},
   "outputs": [],
   "source": []
  }
 ],
 "metadata": {
  "kernelspec": {
   "display_name": "Python 3",
   "language": "python",
   "name": "python3"
  },
  "language_info": {
   "codemirror_mode": {
    "name": "ipython",
    "version": 3
   },
   "file_extension": ".py",
   "mimetype": "text/x-python",
   "name": "python",
   "nbconvert_exporter": "python",
   "pygments_lexer": "ipython3",
   "version": "3.8.5"
  }
 },
 "nbformat": 4,
 "nbformat_minor": 4
}
